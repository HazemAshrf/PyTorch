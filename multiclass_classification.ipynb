{
 "cells": [
  {
   "cell_type": "code",
   "execution_count": 1,
   "id": "689e787b-9580-4043-ba6c-7d6028b4781a",
   "metadata": {},
   "outputs": [],
   "source": [
    "import numpy as np\n",
    "import torch\n",
    "import torch.nn as nn\n",
    "import torch.nn.functional as F\n",
    "import torchvision\n",
    "from torchvision import datasets, transforms, models\n",
    "from torch.utils.data import Dataset, DataLoader\n",
    "import torch.optim as optim\n",
    "from torch.utils.tensorboard import SummaryWriter\n",
    "from sklearn import datasets\n",
    "import matplotlib.pyplot as plt\n",
    "from PIL import Image\n",
    "import os"
   ]
  },
  {
   "cell_type": "markdown",
   "id": "df49fda0-1039-4817-9942-8e9da46d96f1",
   "metadata": {},
   "source": [
    "#### 1- Load and process the data"
   ]
  },
  {
   "cell_type": "code",
   "execution_count": 2,
   "id": "b525a70e-f556-4c54-ad90-c0a0096b4e34",
   "metadata": {},
   "outputs": [
    {
     "name": "stdout",
     "output_type": "stream",
     "text": [
      "Dataset MNIST\n",
      "    Number of datapoints: 60000\n",
      "    Root location: mnist_data/\n",
      "    Split: Train\n",
      "    StandardTransform\n",
      "Transform: Compose(\n",
      "               ToTensor()\n",
      "               Normalize(mean=(0.1307,), std=(0.3081,))\n",
      "           )\n",
      "Dataset MNIST\n",
      "    Number of datapoints: 10000\n",
      "    Root location: mnist_data/\n",
      "    Split: Test\n",
      "    StandardTransform\n",
      "Transform: Compose(\n",
      "               ToTensor()\n",
      "               Normalize(mean=(0.1307,), std=(0.3081,))\n",
      "           )\n",
      "torch.Size([128, 1, 28, 28]) torch.Size([128])\n"
     ]
    }
   ],
   "source": [
    "# Check device\n",
    "device = torch.device('cuda' if torch.cuda.is_available() else 'cpu')\n",
    "\n",
    "# Hyperparameters\n",
    "input_size = 784  # 28x28\n",
    "num_classes = 10\n",
    "num_epochs = 5\n",
    "batch_size = 128\n",
    "learning_rate = 0.001\n",
    "\n",
    "# Transformations\n",
    "transform = transforms.Compose([\n",
    "    transforms.ToTensor(),\n",
    "    transforms.Normalize((0.1307,), (0.3081,))  # Mean and std for MNIST\n",
    "])\n",
    "\n",
    "# MNIST dataset\n",
    "train_dataset = torchvision.datasets.MNIST(root='mnist_data/', \n",
    "                               train=True, \n",
    "                               transform=transform, \n",
    "                               download=True)\n",
    "\n",
    "test_dataset = torchvision.datasets.MNIST(root='mnist_data/', \n",
    "                              train=False, \n",
    "                              transform=transform)\n",
    "\n",
    "# Data loader\n",
    "train_loader = DataLoader(dataset=train_dataset, \n",
    "                          batch_size=batch_size, \n",
    "                          shuffle=True)\n",
    "\n",
    "test_loader = DataLoader(dataset=test_dataset, \n",
    "                         batch_size=batch_size, \n",
    "                         shuffle=False)\n",
    "\n",
    "writer = SummaryWriter('runs/mnist1')  # Initialize TensorBoard\n",
    "\n",
    "print(train_dataset)\n",
    "print(test_dataset)\n",
    "\n",
    "dataiter = iter(train_loader)\n",
    "data = next(dataiter)\n",
    "inputs, targets = data\n",
    "print(inputs.shape, targets.shape)"
   ]
  },
  {
   "cell_type": "code",
   "execution_count": 3,
   "id": "66d68551-af8a-4cae-b7d7-f32e20633fc2",
   "metadata": {},
   "outputs": [
    {
     "data": {
      "image/png": "[encoded data removed]",
      "text/plain": [
       "<Figure size 1500x1500 with 6 Axes>"
      ]
     },
     "metadata": {},
     "output_type": "display_data"
    }
   ],
   "source": [
    "# Function to visualize samples\n",
    "def visualize_samples(dataset, num_samples=6):\n",
    "    # Get some random samples from the dataset\n",
    "    indices = torch.randint(0, len(dataset), (num_samples,))\n",
    "    samples = torch.utils.data.Subset(dataset, indices)\n",
    "    \n",
    "    # Plot the samples\n",
    "    fig, axes = plt.subplots(1, num_samples, figsize=(15, 15))\n",
    "    for i, (image, label) in enumerate(samples):\n",
    "        image = image.squeeze().numpy()\n",
    "        axes[i].imshow(image, cmap='gray')\n",
    "        axes[i].set_title(f'Label: {label}')\n",
    "        axes[i].axis('off')\n",
    "    plt.show()\n",
    "\n",
    "# Visualize samples from the training dataset\n",
    "visualize_samples(train_dataset)"
   ]
  },
  {
   "cell_type": "code",
   "execution_count": 4,
   "id": "513a642d-bbae-4dfc-bd47-1e80a89d09c6",
   "metadata": {},
   "outputs": [],
   "source": [
    "# Get some test images and write them to TensorBoard\n",
    "examples = iter(test_loader)\n",
    "example_data, example_targets = next(examples)\n",
    "\n",
    "# Create a grid of images and log them\n",
    "img_grid = torchvision.utils.make_grid(example_data)\n",
    "writer.add_image('mnist_images', img_grid)\n",
    "\n",
    "# Close the writer\n",
    "writer.close()"
   ]
  },
  {
   "cell_type": "code",
   "execution_count": 5,
   "id": "ed519e36-c2eb-47fd-946c-4649428aad67",
   "metadata": {},
   "outputs": [],
   "source": [
    "# After training, launch TensorBoard from the command line: tensorboard --logdir=runs\n",
    "# This will start a local server. You can then open a web browser and go to http://localhost:6006 to view the TensorBoard dashboard."
   ]
  },
  {
   "cell_type": "markdown",
   "id": "6b30e05f-b055-4466-9465-5fb4b30ac35a",
   "metadata": {},
   "source": [
    "#### 2- Build the model"
   ]
  },
  {
   "cell_type": "code",
   "execution_count": 6,
   "id": "e020268c-2f8b-4481-a52e-9cecccbe1b45",
   "metadata": {},
   "outputs": [],
   "source": [
    "# Fully connected neural network with one hidden layer\n",
    "class NeuralNet(nn.Module):\n",
    "    def __init__(self, input_size, num_classes):\n",
    "        super(NeuralNet, self).__init__()\n",
    "        self.fc1 = nn.Linear(input_size, 128) \n",
    "        self.relu = nn.ReLU()\n",
    "        self.fc2 = nn.Linear(128, num_classes)\n",
    "    \n",
    "    def forward(self, x):\n",
    "        out = self.fc1(x)\n",
    "        out = self.relu(out)\n",
    "        out = self.fc2(out)\n",
    "        # no softmax at the end because the nn.CrossEntropyLoss() applies the softmax\n",
    "        return out\n",
    "\n",
    "model = NeuralNet(input_size, num_classes).to(device)\n",
    "\n",
    "writer.add_graph(model, example_data.reshape(-1, 28*28).to(device))\n",
    "writer.close()\n",
    "\n",
    "# Loss and optimizer\n",
    "criterion = nn.CrossEntropyLoss()\n",
    "optimizer = torch.optim.Adam(model.parameters(), lr=learning_rate)"
   ]
  },
  {
   "cell_type": "markdown",
   "id": "11cca288-6b20-4edc-a748-8801bac021e8",
   "metadata": {},
   "source": [
    "#### 3- Train the model"
   ]
  },
  {
   "cell_type": "code",
   "execution_count": 7,
   "id": "f9e0be3c-65ce-42c9-8ad0-979bd4272a0f",
   "metadata": {},
   "outputs": [
    {
     "name": "stdout",
     "output_type": "stream",
     "text": [
      "Epoch [1/5], Step [469/469], Loss: 0.3143\n",
      "Epoch [2/5], Step [469/469], Loss: 0.1376\n",
      "Epoch [3/5], Step [469/469], Loss: 0.1077\n",
      "Epoch [4/5], Step [469/469], Loss: 0.0733\n",
      "Epoch [5/5], Step [469/469], Loss: 0.0246\n"
     ]
    }
   ],
   "source": [
    "def train_model(model, train_loader, criterion, optimizer, num_epochs, device):\n",
    "    total_step = len(train_loader)\n",
    "    for epoch in range(num_epochs):\n",
    "        running_loss = 0.0\n",
    "        running_correct = 0.0\n",
    "        for i, (images, labels) in enumerate(train_loader):  \n",
    "            images = images.reshape(-1, 28*28).to(device)   # (128, 784)\n",
    "            labels = labels.to(device)                      # (128,)\n",
    "            \n",
    "            # Forward pass\n",
    "            outputs = model(images)                         # (128, 10)\n",
    "            loss = criterion(outputs, labels)\n",
    "            \n",
    "            running_loss += loss.item()\n",
    "            _, predicted = torch.max(outputs.data, 1)\n",
    "            running_correct += (predicted == labels).sum().item()\n",
    "            \n",
    "            # Backward and optimize\n",
    "            optimizer.zero_grad()\n",
    "            loss.backward()\n",
    "            optimizer.step()\n",
    "            if i % 100 == 99:  # log every 100 mini-batches\n",
    "                writer.add_scalar('training loss', running_loss / 100, epoch * total_step + i)\n",
    "                running_accuracy = running_correct / 100 / predicted.size(0)\n",
    "                writer.add_scalar('training accuracy', running_accuracy, epoch * len(train_loader) + i)\n",
    "                running_loss = 0.0\n",
    "                running_correct = 0.0\n",
    "            \n",
    "        print(f'Epoch [{epoch+1}/{num_epochs}], Step [{i+1}/{total_step}], Loss: {loss.item():.4f}')\n",
    "    writer.close()\n",
    "\n",
    "# Train the model\n",
    "train_model(model, train_loader, criterion, optimizer, num_epochs, device)"
   ]
  },
  {
   "cell_type": "markdown",
   "id": "a0b61aa1-0256-4c5d-b7e8-38fc40bc89a6",
   "metadata": {},
   "source": [
    "#### 4- Evaluate the model"
   ]
  },
  {
   "cell_type": "code",
   "execution_count": 6,
   "id": "905bc0b8-28ac-4485-8694-5a2a9408d5bb",
   "metadata": {},
   "outputs": [
    {
     "name": "stdout",
     "output_type": "stream",
     "text": [
      "Accuracy of the model on the 10000 test images: 97.28%\n"
     ]
    }
   ],
   "source": [
    "# Evaluation function\n",
    "def evaluate_model(model, test_loader, device):\n",
    "    model.eval()  # sets the model to evaluation mode (no dropout, batchnorm, etc)\n",
    "    with torch.no_grad():\n",
    "        correct = 0\n",
    "        total = 0\n",
    "        for images, labels in test_loader:\n",
    "            images = images.reshape(-1, 28*28).to(device)\n",
    "            labels = labels.to(device)\n",
    "            outputs = model(images)\n",
    "            _, predicted = torch.max(outputs.data, 1)\n",
    "            total += labels.size(0)\n",
    "            correct += (predicted == labels).sum().item()\n",
    "        print(f'Accuracy of the model on the 10000 test images: {100 * correct / total:.2f}%')\n",
    "\n",
    "# Evaluate the model\n",
    "evaluate_model(model, test_loader, device)"
   ]
  },
  {
   "cell_type": "code",
   "execution_count": 7,
   "id": "8f9376a8-e23a-489c-b03e-347f157c2477",
   "metadata": {},
   "outputs": [
    {
     "data": {
      "image/png": "[encoded data removed]",
      "text/plain": [
       "<Figure size 640x480 with 1 Axes>"
      ]
     },
     "metadata": {},
     "output_type": "display_data"
    }
   ],
   "source": [
    "from tkinter import Tk\n",
    "from tkinter.filedialog import askopenfilename\n",
    "\n",
    "# Class names for CIFAR-10 dataset\n",
    "class_names = ['0', '1', '2', '3', '4', '5', '6', '7', '8', '9']\n",
    "\n",
    "# Ask the user to upload an image\n",
    "root = Tk()\n",
    "#root.withdraw()  # Hide the root window\n",
    "initial_dir = os.getcwd()\n",
    "filename = askopenfilename(initialdir=initial_dir, title='Select an image file', filetypes=[(\"Image files\", \"*.jpg;*.jpeg;*.png;*.webp\")])\n",
    "root.destroy()  # Close the Tkinter window\n",
    "\n",
    "# Ensure to match these with the normalization parameters used during training\n",
    "transform = transforms.Compose([\n",
    "    transforms.Resize((28, 28)),  # Resize to match the input size of the network\n",
    "    transforms.Grayscale(),       # Convert to grayscale\n",
    "    transforms.ToTensor(),\n",
    "    transforms.Normalize((0.1307,), (0.3081,))  # Mean and std for MNIST\n",
    "])\n",
    "\n",
    "# Load and preprocess the image\n",
    "image = Image.open(filename).convert('RGB')  # Ensure image is RGB\n",
    "transformed_image = transform(image)\n",
    "transformed_image = transformed_image.unsqueeze(0).to(device)     # Add batch dimension and move to device\n",
    "transformed_image = transformed_image.reshape(-1, 28*28)\n",
    "\n",
    "model.eval()\n",
    "with torch.no_grad():\n",
    "    output = model(transformed_image)\n",
    "    _, predicted = torch.max(output.data, 1)\n",
    "\n",
    "predicted_label = class_names[predicted.item()]\n",
    "    \n",
    "# Display the image and the classification result\n",
    "plt.imshow(image, cmap='gray')\n",
    "plt.title(f'Predicted: {predicted_label}')\n",
    "plt.axis('off')\n",
    "plt.show()"
   ]
  },
  {
   "cell_type": "markdown",
   "id": "21f929c0-ef07-4856-9d90-dd3e9b8ab2bb",
   "metadata": {},
   "source": [
    "# Callbacks"
   ]
  },
  {
   "cell_type": "code",
   "execution_count": 8,
   "id": "75186003-6191-446c-ae4a-1033d23c5f2b",
   "metadata": {},
   "outputs": [],
   "source": [
    "def save_checkpoint(model, epoch, path='checkpoint.pth'):\n",
    "    torch.save({\n",
    "        'epoch': epoch,\n",
    "        'model_state_dict': model.state_dict(),\n",
    "    }, path)\n",
    "    print(f\"Checkpoint saved at epoch {epoch}\")"
   ]
  },
  {
   "cell_type": "code",
   "execution_count": 9,
   "id": "ec6262ce-e443-4e8f-a3e0-90deaf6e4298",
   "metadata": {},
   "outputs": [],
   "source": [
    "def early_stopping(loss, accuracy, loss_threshold, acc_threshold, patience, stop_counter):\n",
    "    if loss < loss_threshold or accuracy > acc_threshold:\n",
    "        stop_counter += 1\n",
    "        if stop_counter >= patience:\n",
    "            print(\"Early stopping triggered\")\n",
    "            return True, stop_counter\n",
    "    else:\n",
    "        stop_counter = 0\n",
    "    return False, stop_counter"
   ]
  },
  {
   "cell_type": "code",
   "execution_count": 10,
   "id": "4c8f3f18-31eb-42e4-aaef-701c791278a8",
   "metadata": {},
   "outputs": [],
   "source": [
    "# Fully connected neural network with one hidden layer\n",
    "class NeuralNet(nn.Module):\n",
    "    def __init__(self, input_size, num_classes):\n",
    "        super(NeuralNet, self).__init__()\n",
    "        self.fc1 = nn.Linear(input_size, 128) \n",
    "        self.relu = nn.ReLU()\n",
    "        self.fc2 = nn.Linear(128, num_classes)\n",
    "    \n",
    "    def forward(self, x):\n",
    "        out = self.fc1(x)\n",
    "        out = self.relu(out)\n",
    "        out = self.fc2(out)\n",
    "        # no softmax at the end because the nn.CrossEntropyLoss() applies the softmax\n",
    "        return out\n",
    "\n",
    "model = NeuralNet(input_size, num_classes).to(device)\n",
    "\n",
    "# Loss and optimizer\n",
    "criterion = nn.CrossEntropyLoss()\n",
    "optimizer = torch.optim.Adam(model.parameters(), lr=learning_rate)"
   ]
  },
  {
   "cell_type": "code",
   "execution_count": 11,
   "id": "d9cf02ba-eec5-44ea-8cb2-9a3393cab5bf",
   "metadata": {},
   "outputs": [
    {
     "name": "stdout",
     "output_type": "stream",
     "text": [
      "Epoch [1/10], Loss: 0.3018, Accuracy: 0.9134\n",
      "Epoch [2/10], Loss: 0.1287, Accuracy: 0.9618\n",
      "Epoch [3/10], Loss: 0.0877, Accuracy: 0.9740\n",
      "Epoch [4/10], Loss: 0.0671, Accuracy: 0.9795\n",
      "Epoch [5/10], Loss: 0.0527, Accuracy: 0.9842\n",
      "Epoch [6/10], Loss: 0.0431, Accuracy: 0.9873\n",
      "Epoch [7/10], Loss: 0.0345, Accuracy: 0.9894\n",
      "Early stopping triggered\n"
     ]
    }
   ],
   "source": [
    "# Training function with callbacks\n",
    "def train_model(model, train_loader, criterion, optimizer, num_epochs, device):\n",
    "    model.to(device)\n",
    "    stop_counter = 0\n",
    "    patience = 3\n",
    "    loss_threshold = 0.06\n",
    "    acc_threshold = 0.98  # Example threshold for accuracy\n",
    "    \n",
    "    for epoch in range(num_epochs):\n",
    "        model.train()\n",
    "        running_loss = 0.0\n",
    "        correct = 0\n",
    "        total = 0\n",
    "        \n",
    "        for i, (images, labels) in enumerate(train_loader):\n",
    "            images = images.view(-1, 28*28).to(device)\n",
    "            labels = labels.to(device)\n",
    "\n",
    "            optimizer.zero_grad()\n",
    "            outputs = model(images)\n",
    "            loss = criterion(outputs, labels)\n",
    "            loss.backward()\n",
    "            optimizer.step()\n",
    "\n",
    "            running_loss += loss.item()\n",
    "            _, predicted = torch.max(outputs.data, 1)\n",
    "            total += labels.size(0)\n",
    "            correct += (predicted == labels).sum().item()\n",
    "        \n",
    "        avg_loss = running_loss / len(train_loader)\n",
    "        accuracy = correct / total\n",
    "        print(f\"Epoch [{epoch+1}/{num_epochs}], Loss: {avg_loss:.4f}, Accuracy: {accuracy:.4f}\")\n",
    "\n",
    "        # Callbacks\n",
    "        #save_checkpoint(model, epoch)\n",
    "        stop, stop_counter = early_stopping(avg_loss, accuracy, loss_threshold, acc_threshold, patience, stop_counter)\n",
    "        if stop:\n",
    "            break\n",
    "\n",
    "train_model(model, train_loader, criterion, optimizer, num_epochs=10, device=device)"
   ]
  }
 ],
 "metadata": {
  "kernelspec": {
   "display_name": "Python 3 (ipykernel)",
   "language": "python",
   "name": "python3"
  },
  "language_info": {
   "codemirror_mode": {
    "name": "ipython",
    "version": 3
   },
   "file_extension": ".py",
   "mimetype": "text/x-python",
   "name": "python",
   "nbconvert_exporter": "python",
   "pygments_lexer": "ipython3",
   "version": "3.8.18"
  }
 },
 "nbformat": 4,
 "nbformat_minor": 5
}
