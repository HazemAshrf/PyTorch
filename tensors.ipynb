{
 "cells": [
  {
   "cell_type": "code",
   "execution_count": 1,
   "id": "2ad40a87-a3b4-40ce-8c29-85b81f7536a7",
   "metadata": {},
   "outputs": [],
   "source": [
    "import numpy as np\n",
    "import torch"
   ]
  },
  {
   "cell_type": "markdown",
   "id": "6555b81e-766c-4c57-b3c9-92b6385ccbff",
   "metadata": {},
   "source": [
    "# Tensors"
   ]
  },
  {
   "cell_type": "code",
   "execution_count": 2,
   "id": "d693d211-357b-44d7-b6b4-e1a555c930c3",
   "metadata": {},
   "outputs": [
    {
     "name": "stdout",
     "output_type": "stream",
     "text": [
      "tensor([1., 2., 3., 4.], dtype=torch.float64)\n",
      "[1. 2. 3. 4.] <class 'numpy.ndarray'>\n"
     ]
    }
   ],
   "source": [
    "# Create a NumPy array\n",
    "numpy_array = np.array([1.0, 2.0, 3.0, 4.0])\n",
    "\n",
    "# Convert the NumPy array to a PyTorch tensor\n",
    "tensor = torch.tensor(numpy_array)\n",
    "\n",
    "print(tensor)\n",
    "\n",
    "# Convert the PyTorch tensor to a NumPy array\n",
    "numpy_array_back = tensor.numpy()\n",
    "\n",
    "print(numpy_array_back, type(numpy_array_back))"
   ]
  },
  {
   "cell_type": "code",
   "execution_count": 3,
   "id": "88301c46-e4ab-47d8-899c-ad2b7f80b051",
   "metadata": {},
   "outputs": [
    {
     "name": "stdout",
     "output_type": "stream",
     "text": [
      "tensor([[ 0.3286,  0.3484, -0.4849,  0.0969],\n",
      "        [ 1.2856,  2.8669,  1.5635, -0.2303],\n",
      "        [ 0.7100,  0.4000,  0.3216,  2.4203],\n",
      "        [ 1.7302,  1.0907,  0.0435,  1.0247]], device='cuda:0')\n"
     ]
    }
   ],
   "source": [
    "x = torch.randn(4, 4)\n",
    "\n",
    "if torch.cuda.is_available():\n",
    "    device = torch.device(\"cuda\")          # a CUDA device object\n",
    "    y = torch.ones_like(x, device=device)  # directly create a tensor on GPU\n",
    "    x = x.to(device)                       # or just use strings ``.to(\"cuda\")``\n",
    "    z = x + y\n",
    "    # z = z.numpy() # not possible because numpy cannot handle GPU tenors\n",
    "    # move to CPU again\n",
    "    z.to(\"cpu\")       # ``.to`` can also change dtype together!\n",
    "    # z = z.numpy()\n",
    "    print(z)"
   ]
  },
  {
   "cell_type": "markdown",
   "id": "ce2f26ef-b26e-4fe1-8d0a-2cf9b336c347",
   "metadata": {},
   "source": [
    "#### 1- Math Operations"
   ]
  },
  {
   "cell_type": "code",
   "execution_count": 4,
   "id": "029012c6-d8a8-4ac5-b644-4dce88a1ec9b",
   "metadata": {},
   "outputs": [
    {
     "name": "stdout",
     "output_type": "stream",
     "text": [
      "Add: tensor([5., 7., 9.])\n",
      "Subtract: tensor([-3., -3., -3.])\n",
      "Multiply: tensor([ 4., 10., 18.])\n",
      "Divide: tensor([0.2500, 0.4000, 0.5000])\n",
      "Broadcasting Multiplication: tensor([2., 4., 6.])\n"
     ]
    }
   ],
   "source": [
    "import torch\n",
    "\n",
    "# PyTorch tensors\n",
    "a = torch.tensor([1, 2, 3], dtype=torch.float32)\n",
    "b = torch.tensor([4, 5, 6], dtype=torch.float32)\n",
    "\n",
    "# PyTorch operations\n",
    "add = torch.add(a, b)\n",
    "subtract = torch.subtract(a, b)\n",
    "multiply = torch.multiply(a, b)\n",
    "divide = torch.divide(a, b)\n",
    "\n",
    "print(\"Add:\", add)\n",
    "print(\"Subtract:\", subtract)\n",
    "print(\"Multiply:\", multiply)\n",
    "print(\"Divide:\", divide)\n",
    "\n",
    "# Broadcasting in PyTorch\n",
    "c = torch.tensor([1, 2, 3], dtype=torch.float32)\n",
    "d = torch.tensor(2.0, dtype=torch.float32)\n",
    "broadcast_mul = torch.multiply(c, d)\n",
    "\n",
    "print(\"Broadcasting Multiplication:\", broadcast_mul)"
   ]
  },
  {
   "cell_type": "code",
   "execution_count": 5,
   "id": "b2d57093-de7f-4247-999e-d37f20f1efd7",
   "metadata": {},
   "outputs": [
    {
     "name": "stdout",
     "output_type": "stream",
     "text": [
      "Ones: tensor([[1., 1., 1.],\n",
      "        [1., 1., 1.]]) \n",
      "\n",
      "Zeros: tensor([[0., 0., 0.],\n",
      "        [0., 0., 0.]]) \n",
      "\n",
      "Ones like: tensor([1., 1., 1.]) \n",
      "\n",
      "Zeros like: tensor([0., 0., 0.]) \n",
      "\n",
      "Random floats: tensor([[0.9308, 0.0866, 0.5007],\n",
      "        [0.9581, 0.8422, 0.1053]]) \n",
      "\n",
      "Random ints: tensor([[4, 0, 6],\n",
      "        [3, 5, 2]])\n"
     ]
    }
   ],
   "source": [
    "a = torch.tensor([1, 2, 3], dtype=torch.float32)\n",
    "\n",
    "# PyTorch tensor creation functions\n",
    "ones = torch.ones([2, 3])\n",
    "zeros = torch.zeros([2, 3])\n",
    "ones_like = torch.ones_like(a)\n",
    "zeros_like = torch.zeros_like(a)\n",
    "random_floats = torch.rand([2, 3])  # Random floats between 0 and 1\n",
    "random_ints = torch.randint(0, 10, [2, 3])  # Random integers between 0 and 10\n",
    "\n",
    "print(\"Ones:\", ones, \"\\n\")\n",
    "print(\"Zeros:\", zeros, \"\\n\")\n",
    "print(\"Ones like:\", ones_like, \"\\n\")\n",
    "print(\"Zeros like:\", zeros_like, \"\\n\")\n",
    "print(\"Random floats:\", random_floats, \"\\n\")\n",
    "print(\"Random ints:\", random_ints)"
   ]
  },
  {
   "cell_type": "markdown",
   "id": "9bb522de-eb61-4183-ac93-57eb018b14a1",
   "metadata": {},
   "source": [
    "#### 2- Matrix Operations"
   ]
  },
  {
   "cell_type": "code",
   "execution_count": 6,
   "id": "7cb22838-5ff1-458a-8492-2b3503f56184",
   "metadata": {},
   "outputs": [
    {
     "name": "stdout",
     "output_type": "stream",
     "text": [
      "Matrix Multiplication:\n",
      " tensor([[19., 22.],\n",
      "        [43., 50.]])\n",
      "Transpose:\n",
      " tensor([[1., 3.],\n",
      "        [2., 4.]])\n",
      "Inverse:\n",
      " tensor([[-2.0000,  1.0000],\n",
      "        [ 1.5000, -0.5000]])\n"
     ]
    }
   ],
   "source": [
    "import torch\n",
    "\n",
    "# Define the matrices\n",
    "matrix1 = torch.tensor([[1, 2], [3, 4]], dtype=torch.float32)\n",
    "matrix2 = torch.tensor([[5, 6], [7, 8]], dtype=torch.float32)\n",
    "\n",
    "# Matrix multiplication\n",
    "matmul = torch.matmul(matrix1, matrix2)\n",
    "\n",
    "# Transpose\n",
    "transpose = torch.transpose(matrix1, 0, 1)\n",
    "\n",
    "# Inverse (Only if the matrix is invertible)\n",
    "inverse = torch.inverse(matrix1)\n",
    "\n",
    "print(\"Matrix Multiplication:\\n\", matmul)\n",
    "print(\"Transpose:\\n\", transpose)\n",
    "print(\"Inverse:\\n\", inverse)"
   ]
  },
  {
   "cell_type": "markdown",
   "id": "d44ba38e-f7d7-4c7a-8679-43f0c8361e6f",
   "metadata": {},
   "source": [
    "#### 3- Reduction Operations"
   ]
  },
  {
   "cell_type": "code",
   "execution_count": 7,
   "id": "ee80ce2a-8ccd-4aea-80f7-041f810f322f",
   "metadata": {},
   "outputs": [
    {
     "name": "stdout",
     "output_type": "stream",
     "text": [
      "Sum: tensor(15.)\n",
      "Mean: tensor(3.)\n",
      "Max: tensor(5.)\n"
     ]
    }
   ],
   "source": [
    "c = torch.tensor([1, 2, 3, 4, 5], dtype=torch.float32)\n",
    "\n",
    "sum_c = torch.sum(c)\n",
    "mean_c = torch.mean(c)\n",
    "max_c = torch.max(c)\n",
    "\n",
    "print(\"Sum:\", sum_c)\n",
    "print(\"Mean:\", mean_c)\n",
    "print(\"Max:\", max_c)"
   ]
  },
  {
   "cell_type": "markdown",
   "id": "ebd460ba-22bf-40c3-9472-02ea8b1dac22",
   "metadata": {},
   "source": [
    "#### 4- Reshaping Operations"
   ]
  },
  {
   "cell_type": "code",
   "execution_count": 8,
   "id": "1947eea5-fc65-4290-8302-761232646c1e",
   "metadata": {},
   "outputs": [
    {
     "name": "stdout",
     "output_type": "stream",
     "text": [
      "Original Tensor:\n",
      " tensor([[1., 2., 3.],\n",
      "        [4., 5., 6.]])\n",
      "Reshaped Tensor:\n",
      " tensor([[1., 2.],\n",
      "        [3., 4.],\n",
      "        [5., 6.]])\n",
      "Reshaped Tensor using -1:\n",
      " tensor([[1., 2.],\n",
      "        [3., 4.],\n",
      "        [5., 6.]])\n",
      "Flattened Tensor:\n",
      " tensor([1., 2., 3., 4., 5., 6.])\n",
      "Expanded Tensor:\n",
      " tensor([[[1., 2., 3.],\n",
      "         [4., 5., 6.]]])\n",
      "Squeezed Tensor:\n",
      " tensor([[1., 2., 3.],\n",
      "        [4., 5., 6.]])\n",
      "Reshaped Tensor using view:\n",
      " tensor([[1., 2.],\n",
      "        [3., 4.],\n",
      "        [5., 6.]])\n"
     ]
    }
   ],
   "source": [
    "tensor = torch.tensor([[1, 2, 3], [4, 5, 6]], dtype=torch.float32)\n",
    "#print(tensor[1,1].item()) # element at 1, 1\n",
    "\n",
    "reshaped_tensor1 = torch.reshape(tensor, (3, 2))\n",
    "reshaped_tensor2 = tensor.reshape(-1, 2)\n",
    "flattened_tensor = tensor.view(-1)\n",
    "expanded_tensor = torch.unsqueeze(tensor, 0)\n",
    "squeezed_tensor = torch.squeeze(expanded_tensor)\n",
    "\n",
    "# Reshape the tensor using view\n",
    "# Generally faster because it avoids copying data if the tensor is already contiguous.\n",
    "if not tensor.is_contiguous():\n",
    "    tensor = tensor.contiguous()\n",
    "reshaped_tensor_view = tensor.view(3, 2)\n",
    "\n",
    "print(\"Original Tensor:\\n\", tensor)\n",
    "print(\"Reshaped Tensor:\\n\", reshaped_tensor1)\n",
    "print(\"Reshaped Tensor using -1:\\n\", reshaped_tensor2)\n",
    "print(\"Flattened Tensor:\\n\", flattened_tensor)\n",
    "print(\"Expanded Tensor:\\n\", expanded_tensor)\n",
    "print(\"Squeezed Tensor:\\n\", squeezed_tensor)\n",
    "print(\"Reshaped Tensor using view:\\n\", reshaped_tensor_view)"
   ]
  }
 ],
 "metadata": {
  "kernelspec": {
   "display_name": "Python 3 (ipykernel)",
   "language": "python",
   "name": "python3"
  },
  "language_info": {
   "codemirror_mode": {
    "name": "ipython",
    "version": 3
   },
   "file_extension": ".py",
   "mimetype": "text/x-python",
   "name": "python",
   "nbconvert_exporter": "python",
   "pygments_lexer": "ipython3",
   "version": "3.8.18"
  }
 },
 "nbformat": 4,
 "nbformat_minor": 5
}
